{
 "cells": [
  {
   "cell_type": "code",
   "execution_count": 1,
   "metadata": {},
   "outputs": [],
   "source": [
    "import pandas as pd\n",
    "import polars as pl\n",
    "import re\n",
    "from api_scraper1 import MLB_Scrape\n",
    "\n",
    "# Initialize the scraper\n",
    "scraper = MLB_Scrape()"
   ]
  },
  {
   "cell_type": "code",
   "execution_count": 2,
   "metadata": {},
   "outputs": [
    {
     "name": "stdout",
     "output_type": "stream",
     "text": [
      "shape: (1, 6)\n",
      "┌───────────┬────────────┬───────────┬─────────────┬──────────┬──────┐\n",
      "│ player_id ┆ first_name ┆ last_name ┆ name        ┆ position ┆ team │\n",
      "│ ---       ┆ ---        ┆ ---       ┆ ---         ┆ ---      ┆ ---  │\n",
      "│ i64       ┆ str        ┆ str       ┆ str         ┆ str      ┆ i64  │\n",
      "╞═══════════╪════════════╪═══════════╪═════════════╪══════════╪══════╡\n",
      "│ 683004    ┆ Jack       ┆ Leiter    ┆ Jack Leiter ┆ P        ┆ 140  │\n",
      "└───────────┴────────────┴───────────┴─────────────┴──────────┴──────┘\n"
     ]
    }
   ],
   "source": [
    "df_player = scraper.get_players(sport_id=1,season=2025,game_type=['S'])\n",
    "name = 'Jack Leiter'  # Replace with the name you're looking for\n",
    "specific_player = df_player.filter(df_player['name'] == name)\n",
    "print(specific_player)"
   ]
  },
  {
   "cell_type": "code",
   "execution_count": 4,
   "metadata": {},
   "outputs": [
    {
     "name": "stdout",
     "output_type": "stream",
     "text": [
      "This May Take a While. Progress Bar shows Completion of Data Retrieval.\n"
     ]
    },
    {
     "name": "stderr",
     "output_type": "stream",
     "text": [
      "Processing: 100%|██████████| 5/5 [00:00<00:00, 16.36iteration/s]"
     ]
    },
    {
     "name": "stdout",
     "output_type": "stream",
     "text": [
      "Converting Data to Dataframe.\n",
      "Index(['game_id', 'game_date', 'batter_id', 'batter_name', 'batter_hand',\n",
      "       'batter_team', 'batter_team_id', 'pitcher_id', 'pitcher_name',\n",
      "       'pitcher_hand', 'pitcher_team', 'pitcher_team_id', 'ab_number',\n",
      "       'play_description', 'play_code', 'in_play', 'is_strike', 'is_swing',\n",
      "       'is_whiff', 'is_out', 'is_ball', 'is_review', 'pitch_type',\n",
      "       'pitch_description', 'strikes', 'balls', 'outs', 'strikes_after',\n",
      "       'balls_after', 'outs_after', 'start_speed', 'end_speed', 'sz_top',\n",
      "       'sz_bot', 'x', 'y', 'ax', 'ay', 'az', 'pfxx', 'pfxz', 'px', 'pz', 'vx0',\n",
      "       'vy0', 'vz0', 'x0', 'y0', 'z0', 'zone', 'type_confidence', 'plate_time',\n",
      "       'extension', 'spin_rate', 'spin_direction', 'vb', 'ivb', 'hb',\n",
      "       'release_pos_x', 'release_pos_z', 'z_release_point', 'launch_speed',\n",
      "       'launch_angle', 'launch_distance', 'launch_location', 'trajectory',\n",
      "       'hardness', 'hit_x', 'hit_y', 'index_play', 'play_id', 'start_time',\n",
      "       'end_time', 'is_pitch', 'type_type', 'type_ab', 'event', 'event_type',\n",
      "       'rbi', 'away_score', 'home_score'],\n",
      "      dtype='object')\n",
      "  release_pos_x release_pos_z z_release_point       x       y\n",
      "0          None          None            None  104.74  194.93\n",
      "1          None          None            None  103.00  180.65\n",
      "2          None          None            None  133.74  143.36\n",
      "3          None          None            None   90.47  191.52\n",
      "4          None          None            None  138.02  183.73\n",
      "5          None          None            None  177.99  148.34\n",
      "6          None          None            None  110.67  197.09\n",
      "7          None          None            None   62.51  173.27\n",
      "8          None          None            None  112.94  199.78\n",
      "9          None          None            None   96.80  164.63\n"
     ]
    },
    {
     "name": "stderr",
     "output_type": "stream",
     "text": [
      "\n"
     ]
    }
   ],
   "source": [
    "import polars as pl\n",
    "\n",
    "# Set player ID and the desired date\n",
    "player_id = 683004\n",
    "selected_date = '2025-03-16'  # Replace with your desired date (format: 'YYYY-MM-DD')\n",
    "season = 2025\n",
    "player_games = scraper.get_player_games_list(player_id=player_id, season=season, game_type=['S'], pitching=True)\n",
    "\n",
    "# Get the data using the game list\n",
    "data = scraper.get_data(game_list_input=player_games)\n",
    "\n",
    "# Convert the data into a Polars DataFrame\n",
    "df = scraper.get_data_df(data_list=data)\n",
    "\n",
    "# Filter the DataFrame based on the player ID and selected date\n",
    "df = df.filter(\n",
    "        (pl.col(\"pitcher_id\") == player_id) & \n",
    "        (pl.col(\"game_date\") == selected_date)  # Filter for the specific date\n",
    ")\n",
    "\n",
    "# Convert the Polars DataFrame to a Pandas DataFrame\n",
    "df = df.to_pandas()\n",
    "pitcher_id = player_id\n",
    "# Now df_pandas is a Pandas DataFrame and you can use it for further analysis or plotting\n",
    "print(df.columns)\n",
    "# Display the first few rows of release position columns\n",
    "print(df[['release_pos_x', 'release_pos_z', 'z_release_point', 'x', 'y']].head(10))\n",
    "\n"
   ]
  },
  {
   "cell_type": "code",
   "execution_count": 4,
   "metadata": {},
   "outputs": [
    {
     "ename": "KeyError",
     "evalue": "'release_pos_y'",
     "output_type": "error",
     "traceback": [
      "\u001b[0;31m---------------------------------------------------------------------------\u001b[0m",
      "\u001b[0;31mKeyError\u001b[0m                                  Traceback (most recent call last)",
      "File \u001b[0;32m/Library/Frameworks/Python.framework/Versions/3.12/lib/python3.12/site-packages/pandas/core/indexes/base.py:3805\u001b[0m, in \u001b[0;36mIndex.get_loc\u001b[0;34m(self, key)\u001b[0m\n\u001b[1;32m   3804\u001b[0m \u001b[38;5;28;01mtry\u001b[39;00m:\n\u001b[0;32m-> 3805\u001b[0m     \u001b[38;5;28;01mreturn\u001b[39;00m \u001b[38;5;28;43mself\u001b[39;49m\u001b[38;5;241;43m.\u001b[39;49m\u001b[43m_engine\u001b[49m\u001b[38;5;241;43m.\u001b[39;49m\u001b[43mget_loc\u001b[49m\u001b[43m(\u001b[49m\u001b[43mcasted_key\u001b[49m\u001b[43m)\u001b[49m\n\u001b[1;32m   3806\u001b[0m \u001b[38;5;28;01mexcept\u001b[39;00m \u001b[38;5;167;01mKeyError\u001b[39;00m \u001b[38;5;28;01mas\u001b[39;00m err:\n",
      "File \u001b[0;32mindex.pyx:167\u001b[0m, in \u001b[0;36mpandas._libs.index.IndexEngine.get_loc\u001b[0;34m()\u001b[0m\n",
      "File \u001b[0;32mindex.pyx:196\u001b[0m, in \u001b[0;36mpandas._libs.index.IndexEngine.get_loc\u001b[0;34m()\u001b[0m\n",
      "File \u001b[0;32mpandas/_libs/hashtable_class_helper.pxi:7081\u001b[0m, in \u001b[0;36mpandas._libs.hashtable.PyObjectHashTable.get_item\u001b[0;34m()\u001b[0m\n",
      "File \u001b[0;32mpandas/_libs/hashtable_class_helper.pxi:7089\u001b[0m, in \u001b[0;36mpandas._libs.hashtable.PyObjectHashTable.get_item\u001b[0;34m()\u001b[0m\n",
      "\u001b[0;31mKeyError\u001b[0m: 'release_pos_y'",
      "\nThe above exception was the direct cause of the following exception:\n",
      "\u001b[0;31mKeyError\u001b[0m                                  Traceback (most recent call last)",
      "Cell \u001b[0;32mIn[4], line 11\u001b[0m\n\u001b[1;32m      9\u001b[0m \u001b[38;5;66;03m# Calculate the average release positions\u001b[39;00m\n\u001b[1;32m     10\u001b[0m avg_release_x \u001b[38;5;241m=\u001b[39m np\u001b[38;5;241m.\u001b[39mmean(df_pitcher[\u001b[38;5;124m'\u001b[39m\u001b[38;5;124mrelease_pos_x\u001b[39m\u001b[38;5;124m'\u001b[39m])\n\u001b[0;32m---> 11\u001b[0m avg_release_y \u001b[38;5;241m=\u001b[39m np\u001b[38;5;241m.\u001b[39mmean(\u001b[43mdf_pitcher\u001b[49m\u001b[43m[\u001b[49m\u001b[38;5;124;43m'\u001b[39;49m\u001b[38;5;124;43mrelease_pos_y\u001b[39;49m\u001b[38;5;124;43m'\u001b[39;49m\u001b[43m]\u001b[49m)\n\u001b[1;32m     13\u001b[0m \u001b[38;5;66;03m# Create a plot\u001b[39;00m\n\u001b[1;32m     14\u001b[0m fig, ax \u001b[38;5;241m=\u001b[39m plt\u001b[38;5;241m.\u001b[39msubplots(figsize\u001b[38;5;241m=\u001b[39m(\u001b[38;5;241m8\u001b[39m, \u001b[38;5;241m6\u001b[39m))\n",
      "File \u001b[0;32m/Library/Frameworks/Python.framework/Versions/3.12/lib/python3.12/site-packages/pandas/core/frame.py:4102\u001b[0m, in \u001b[0;36mDataFrame.__getitem__\u001b[0;34m(self, key)\u001b[0m\n\u001b[1;32m   4100\u001b[0m \u001b[38;5;28;01mif\u001b[39;00m \u001b[38;5;28mself\u001b[39m\u001b[38;5;241m.\u001b[39mcolumns\u001b[38;5;241m.\u001b[39mnlevels \u001b[38;5;241m>\u001b[39m \u001b[38;5;241m1\u001b[39m:\n\u001b[1;32m   4101\u001b[0m     \u001b[38;5;28;01mreturn\u001b[39;00m \u001b[38;5;28mself\u001b[39m\u001b[38;5;241m.\u001b[39m_getitem_multilevel(key)\n\u001b[0;32m-> 4102\u001b[0m indexer \u001b[38;5;241m=\u001b[39m \u001b[38;5;28;43mself\u001b[39;49m\u001b[38;5;241;43m.\u001b[39;49m\u001b[43mcolumns\u001b[49m\u001b[38;5;241;43m.\u001b[39;49m\u001b[43mget_loc\u001b[49m\u001b[43m(\u001b[49m\u001b[43mkey\u001b[49m\u001b[43m)\u001b[49m\n\u001b[1;32m   4103\u001b[0m \u001b[38;5;28;01mif\u001b[39;00m is_integer(indexer):\n\u001b[1;32m   4104\u001b[0m     indexer \u001b[38;5;241m=\u001b[39m [indexer]\n",
      "File \u001b[0;32m/Library/Frameworks/Python.framework/Versions/3.12/lib/python3.12/site-packages/pandas/core/indexes/base.py:3812\u001b[0m, in \u001b[0;36mIndex.get_loc\u001b[0;34m(self, key)\u001b[0m\n\u001b[1;32m   3807\u001b[0m     \u001b[38;5;28;01mif\u001b[39;00m \u001b[38;5;28misinstance\u001b[39m(casted_key, \u001b[38;5;28mslice\u001b[39m) \u001b[38;5;129;01mor\u001b[39;00m (\n\u001b[1;32m   3808\u001b[0m         \u001b[38;5;28misinstance\u001b[39m(casted_key, abc\u001b[38;5;241m.\u001b[39mIterable)\n\u001b[1;32m   3809\u001b[0m         \u001b[38;5;129;01mand\u001b[39;00m \u001b[38;5;28many\u001b[39m(\u001b[38;5;28misinstance\u001b[39m(x, \u001b[38;5;28mslice\u001b[39m) \u001b[38;5;28;01mfor\u001b[39;00m x \u001b[38;5;129;01min\u001b[39;00m casted_key)\n\u001b[1;32m   3810\u001b[0m     ):\n\u001b[1;32m   3811\u001b[0m         \u001b[38;5;28;01mraise\u001b[39;00m InvalidIndexError(key)\n\u001b[0;32m-> 3812\u001b[0m     \u001b[38;5;28;01mraise\u001b[39;00m \u001b[38;5;167;01mKeyError\u001b[39;00m(key) \u001b[38;5;28;01mfrom\u001b[39;00m \u001b[38;5;21;01merr\u001b[39;00m\n\u001b[1;32m   3813\u001b[0m \u001b[38;5;28;01mexcept\u001b[39;00m \u001b[38;5;167;01mTypeError\u001b[39;00m:\n\u001b[1;32m   3814\u001b[0m     \u001b[38;5;66;03m# If we have a listlike key, _check_indexing_error will raise\u001b[39;00m\n\u001b[1;32m   3815\u001b[0m     \u001b[38;5;66;03m#  InvalidIndexError. Otherwise we fall through and re-raise\u001b[39;00m\n\u001b[1;32m   3816\u001b[0m     \u001b[38;5;66;03m#  the TypeError.\u001b[39;00m\n\u001b[1;32m   3817\u001b[0m     \u001b[38;5;28mself\u001b[39m\u001b[38;5;241m.\u001b[39m_check_indexing_error(key)\n",
      "\u001b[0;31mKeyError\u001b[0m: 'release_pos_y'"
     ]
    }
   ],
   "source": [
    "import matplotlib.pyplot as plt\n",
    "import seaborn as sns\n",
    "import numpy as np\n",
    "\n",
    "# Assuming 'df' is your dataframe with release position data for the pitcher\n",
    "# Filter the data for the specific pitcher\n",
    "df_pitcher = df[df['pitcher_id'] == pitcher_id]  # Replace 'pitcher_id' with your pitcher ID\n",
    "\n",
    "# Calculate the average release positions\n",
    "avg_release_x = np.mean(df_pitcher['release_pos_x'])\n",
    "avg_release_y = np.mean(df_pitcher['release_pos_y'])\n",
    "\n",
    "# Create a plot\n",
    "fig, ax = plt.subplots(figsize=(8, 6))\n",
    "\n",
    "# Scatter plot for individual release positions\n",
    "sns.scatterplot(data=df_pitcher, x='release_pos_x', y='release_pos_y', ax=ax, color='blue', alpha=0.6)\n",
    "\n",
    "# Plot the average release point\n",
    "ax.scatter(avg_release_x, avg_release_y, color='red', marker='X', s=100, label=f'Average Release\\n({avg_release_x:.2f}, {avg_release_y:.2f})')\n",
    "\n",
    "# Add labels and title\n",
    "ax.set_xlabel('Release Position X (Horizontal) [inches]', fontsize=12)\n",
    "ax.set_ylabel('Release Position Y (Vertical) [inches]', fontsize=12)\n",
    "ax.set_title('Pitcher Release Points (Average)', fontsize=14)\n",
    "\n",
    "# Show the legend\n",
    "ax.legend()\n",
    "\n",
    "# Display the plot\n",
    "plt.tight_layout()\n",
    "plt.show()\n"
   ]
  }
 ],
 "metadata": {
  "kernelspec": {
   "display_name": "Python 3",
   "language": "python",
   "name": "python3"
  },
  "language_info": {
   "codemirror_mode": {
    "name": "ipython",
    "version": 3
   },
   "file_extension": ".py",
   "mimetype": "text/x-python",
   "name": "python",
   "nbconvert_exporter": "python",
   "pygments_lexer": "ipython3",
   "version": "3.12.6"
  }
 },
 "nbformat": 4,
 "nbformat_minor": 2
}
