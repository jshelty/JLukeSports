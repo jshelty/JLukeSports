{
 "cells": [
  {
   "cell_type": "markdown",
   "metadata": {
    "id": "zYB5zBojqcLS"
   },
   "source": [
    "# MLB Scraper\n",
    "\n",
    "This Python module provides a class `MLB_Scrape` that interacts with the MLB Stats API to retrieve various types of baseball-related data. The data is processed and returned as Polars DataFrames for easy manipulation and analysis.\n",
    "\n",
    "## Requirements\n",
    "\n",
    "- Python 3.x\n",
    "- `requests` library\n",
    "- `polars` library\n",
    "- `numpy` library\n",
    "- `tqdm` library\n",
    "- `pytz` library\n",
    "\n",
    "You can install the required libraries using pip:\n",
    "\n",
    "```sh\n",
    "pip install requests polars numpy tqdm pytz\n",
    "```"
   ]
  },
  {
   "cell_type": "markdown",
   "metadata": {
    "id": "QvK-VjS9qcLV"
   },
   "source": [
    "## Usage"
   ]
  },
  {
   "cell_type": "markdown",
   "metadata": {
    "id": "ymSBBAEKqcLV"
   },
   "source": [
    "Import the MLB_Scrape class from the module and Initialize the scraper"
   ]
  },
  {
   "cell_type": "code",
   "execution_count": 2,
   "metadata": {},
   "outputs": [],
   "source": [
    "import requests\n",
    "import polars as pl\n",
    "import numpy as np\n",
    "from datetime import datetime\n",
    "import pybaseball as pyb\n",
    "from tqdm import tqdm\n",
    "from pytz import timezone\n",
    "import re\n",
    "from concurrent.futures import ThreadPoolExecutor, as_completed"
   ]
  },
  {
   "cell_type": "code",
   "execution_count": 4,
   "metadata": {
    "executionInfo": {
     "elapsed": 452,
     "status": "ok",
     "timestamp": 1726588170102,
     "user": {
      "displayName": "Thomas Nestico",
      "userId": "11737412841197753986"
     },
     "user_tz": 240
    },
    "id": "kDUDHodlqcLV"
   },
   "outputs": [],
   "source": [
    "# Import the MLB_Scrape class from the module\n",
    "from api_scraper import MLB_Scrape\n",
    "\n",
    "# Initialize the scraper\n",
    "scraper = MLB_Scrape()"
   ]
  },
  {
   "cell_type": "markdown",
   "metadata": {
    "id": "xxM-5RcYqcLW"
   },
   "source": [
    "#### get_sport_id()\n",
    "\n",
    "Retrieves the list of sports from the MLB Stats API and processes it into a Polars DataFrame."
   ]
  },
  {
   "cell_type": "code",
   "execution_count": 5,
   "metadata": {
    "colab": {
     "base_uri": "https://localhost:8080/"
    },
    "executionInfo": {
     "elapsed": 182,
     "status": "ok",
     "timestamp": 1726588170279,
     "user": {
      "displayName": "Thomas Nestico",
      "userId": "11737412841197753986"
     },
     "user_tz": 240
    },
    "id": "mzheARDGqcLW",
    "outputId": "e7c99862-cc14-47d7-df32-88cb250bf48b"
   },
   "outputs": [
    {
     "name": "stdout",
     "output_type": "stream",
     "text": [
      "shape: (19, 7)\n",
      "┌──────┬──────┬─────────────────────┬────────────────────┬──────────────┬───────────┬──────────────┐\n",
      "│ id   ┆ code ┆ link                ┆ name               ┆ abbreviation ┆ sortOrder ┆ activeStatus │\n",
      "│ ---  ┆ ---  ┆ ---                 ┆ ---                ┆ ---          ┆ ---       ┆ ---          │\n",
      "│ i64  ┆ str  ┆ str                 ┆ str                ┆ str          ┆ i64       ┆ bool         │\n",
      "╞══════╪══════╪═════════════════════╪════════════════════╪══════════════╪═══════════╪══════════════╡\n",
      "│ 1    ┆ mlb  ┆ /api/v1/sports/1    ┆ Major League       ┆ MLB          ┆ 11        ┆ true         │\n",
      "│      ┆      ┆                     ┆ Baseball           ┆              ┆           ┆              │\n",
      "│ 11   ┆ aaa  ┆ /api/v1/sports/11   ┆ Triple-A           ┆ AAA          ┆ 101       ┆ true         │\n",
      "│ 12   ┆ aax  ┆ /api/v1/sports/12   ┆ Double-A           ┆ AA           ┆ 201       ┆ true         │\n",
      "│ 13   ┆ afa  ┆ /api/v1/sports/13   ┆ High-A             ┆ A+           ┆ 301       ┆ true         │\n",
      "│ 14   ┆ afx  ┆ /api/v1/sports/14   ┆ Single-A           ┆ A            ┆ 401       ┆ true         │\n",
      "│ …    ┆ …    ┆ …                   ┆ …                  ┆ …            ┆ …         ┆ …            │\n",
      "│ 510  ┆ nas  ┆ /api/v1/sports/510  ┆ International      ┆ 16U          ┆ 3505      ┆ true         │\n",
      "│      ┆      ┆                     ┆ Baseball (16 and…  ┆              ┆           ┆              │\n",
      "│ 6005 ┆ ame  ┆ /api/v1/sports/6005 ┆ International      ┆ AME          ┆ 3509      ┆ true         │\n",
      "│      ┆      ┆                     ┆ Baseball (amateu…  ┆              ┆           ┆              │\n",
      "│ 22   ┆ bbc  ┆ /api/v1/sports/22   ┆ College Baseball   ┆ College      ┆ 5101      ┆ true         │\n",
      "│ 586  ┆ hsb  ┆ /api/v1/sports/586  ┆ High School        ┆ H.S.         ┆ 6201      ┆ true         │\n",
      "│      ┆      ┆                     ┆ Baseball           ┆              ┆           ┆              │\n",
      "│ 576  ┆ wps  ┆ /api/v1/sports/576  ┆ Women's            ┆ WPS          ┆ 7001      ┆ true         │\n",
      "│      ┆      ┆                     ┆ Professional       ┆              ┆           ┆              │\n",
      "│      ┆      ┆                     ┆ Softball           ┆              ┆           ┆              │\n",
      "└──────┴──────┴─────────────────────┴────────────────────┴──────────────┴───────────┴──────────────┘\n",
      "['Major League Baseball', 'Triple-A', 'Double-A', 'High-A', 'Single-A', 'Rookie', 'Winter Leagues', 'Minor League Baseball', 'Independent Leagues', 'Negro League Baseball', 'Korean Baseball Organization', 'Nippon Professional Baseball', 'International Baseball', 'International Baseball (18U)', 'International Baseball (16 and under)', 'International Baseball (amateur)', 'College Baseball', 'High School Baseball', \"Women's Professional Softball\"]\n"
     ]
    }
   ],
   "source": [
    "# Call the get_sport_id method\n",
    "sport_ids = scraper.get_sport_id()\n",
    "print(sport_ids)\n",
    "print(sport_ids['name'].to_list())"
   ]
  },
  {
   "cell_type": "markdown",
   "metadata": {
    "id": "pcj_-M73qcLX"
   },
   "source": [
    "##### get_sport_id_check()\n",
    "Checks if the provided sport ID exists in the list of sports retrieved from the MLB Stats API."
   ]
  },
  {
   "cell_type": "code",
   "execution_count": 6,
   "metadata": {
    "colab": {
     "base_uri": "https://localhost:8080/"
    },
    "executionInfo": {
     "elapsed": 2,
     "status": "ok",
     "timestamp": 1726588170279,
     "user": {
      "displayName": "Thomas Nestico",
      "userId": "11737412841197753986"
     },
     "user_tz": 240
    },
    "id": "zKlNBReRqcLX",
    "outputId": "09eabf9c-ad2f-441a-a4b3-cd96c8c24728"
   },
   "outputs": [
    {
     "name": "stdout",
     "output_type": "stream",
     "text": [
      "True\n"
     ]
    }
   ],
   "source": [
    "# Call the get_sport_id_check method\n",
    "is_valid = scraper.get_sport_id_check(sport_id=1)\n",
    "print(is_valid)\n"
   ]
  },
  {
   "cell_type": "markdown",
   "metadata": {
    "id": "WqJxL72TqcLX"
   },
   "source": [
    "##### get_schedule()\n",
    "Retrieves the schedule of baseball games based on the specified parameters."
   ]
  },
  {
   "cell_type": "code",
   "execution_count": 7,
   "metadata": {
    "colab": {
     "base_uri": "https://localhost:8080/"
    },
    "executionInfo": {
     "elapsed": 636,
     "status": "ok",
     "timestamp": 1726588170914,
     "user": {
      "displayName": "Thomas Nestico",
      "userId": "11737412841197753986"
     },
     "user_tz": 240
    },
    "id": "kcM6w2U0qcLY",
    "outputId": "adea3081-4e30-422b-b30d-0b2012dbdae8"
   },
   "outputs": [
    {
     "name": "stdout",
     "output_type": "stream",
     "text": [
      "shape: (866, 8)\n",
      "┌─────────┬──────────┬────────────┬───────────────┬──────────────┬───────┬──────────┬──────────────┐\n",
      "│ game_id ┆ time     ┆ date       ┆ away          ┆ home         ┆ state ┆ venue_id ┆ venue_name   │\n",
      "│ ---     ┆ ---      ┆ ---        ┆ ---           ┆ ---          ┆ ---   ┆ ---      ┆ ---          │\n",
      "│ i64     ┆ str      ┆ date       ┆ str           ┆ str          ┆ str   ┆ i64      ┆ str          │\n",
      "╞═════════╪══════════╪════════════╪═══════════════╪══════════════╪═══════╪══════════╪══════════════╡\n",
      "│ 791940  ┆ 02:30 PM ┆ 2025-01-31 ┆ Arkansas Tech ┆ Jefferson    ┆ F     ┆ 2392     ┆ Daikin Park  │\n",
      "│         ┆          ┆            ┆ Wonder Boys   ┆ Rams         ┆       ┆          ┆              │\n",
      "│ 791941  ┆ 11:00 AM ┆ 2025-01-31 ┆ Mississippi   ┆ Arkansas-Mon ┆ F     ┆ 2392     ┆ Daikin Park  │\n",
      "│         ┆          ┆            ┆ College       ┆ ticello Boll ┆       ┆          ┆              │\n",
      "│         ┆          ┆            ┆ Choctaws      ┆ Weevi…       ┆       ┆          ┆              │\n",
      "│ 791939  ┆ 06:00 PM ┆ 2025-01-31 ┆ Ashland       ┆ Central      ┆ F     ┆ 2392     ┆ Daikin Park  │\n",
      "│         ┆          ┆            ┆ Eagles        ┆ Missouri     ┆       ┆          ┆              │\n",
      "│         ┆          ┆            ┆               ┆ Mules        ┆       ┆          ┆              │\n",
      "│ 791937  ┆ 06:00 PM ┆ 2025-02-01 ┆ Jefferson     ┆ Mississippi  ┆ F     ┆ 2392     ┆ Daikin Park  │\n",
      "│         ┆          ┆            ┆ Rams          ┆ College      ┆       ┆          ┆              │\n",
      "│         ┆          ┆            ┆               ┆ Choctaws     ┆       ┆          ┆              │\n",
      "│ 791935  ┆ 02:30 PM ┆ 2025-02-01 ┆ Arkansas-Mont ┆ Central      ┆ F     ┆ 2392     ┆ Daikin Park  │\n",
      "│         ┆          ┆            ┆ icello Boll   ┆ Missouri     ┆       ┆          ┆              │\n",
      "│         ┆          ┆            ┆ Weevi…        ┆ Mules        ┆       ┆          ┆              │\n",
      "│ …       ┆ …        ┆ …          ┆ …             ┆ …            ┆ …     ┆ …        ┆ …            │\n",
      "│ 790896  ┆ 07:00 PM ┆ 2025-09-02 ┆ Trenton       ┆ Frederick    ┆ F     ┆ 2782     ┆ Nymeo Field  │\n",
      "│         ┆          ┆            ┆ Thunder       ┆ Keys         ┆       ┆          ┆              │\n",
      "│ 790904  ┆ 06:00 PM ┆ 2025-09-02 ┆ Mahoning      ┆ West         ┆ F     ┆ 4965     ┆ Wagener      │\n",
      "│         ┆          ┆            ┆ Valley        ┆ Virginia     ┆       ┆          ┆ Field at     │\n",
      "│         ┆          ┆            ┆ Scrappers     ┆ Black Bears  ┆       ┆          ┆ Kendrick     │\n",
      "│         ┆          ┆            ┆               ┆              ┆       ┆          ┆ Fami…        │\n",
      "│ 790905  ┆ 06:00 PM ┆ 2025-09-03 ┆ Mahoning      ┆ West         ┆ F     ┆ 4965     ┆ Wagener      │\n",
      "│         ┆          ┆            ┆ Valley        ┆ Virginia     ┆       ┆          ┆ Field at     │\n",
      "│         ┆          ┆            ┆ Scrappers     ┆ Black Bears  ┆       ┆          ┆ Kendrick     │\n",
      "│         ┆          ┆            ┆               ┆              ┆       ┆          ┆ Fami…        │\n",
      "│ 790894  ┆ 07:00 PM ┆ 2025-09-03 ┆ Trenton       ┆ Frederick    ┆ F     ┆ 2782     ┆ Nymeo Field  │\n",
      "│         ┆          ┆            ┆ Thunder       ┆ Keys         ┆       ┆          ┆              │\n",
      "│ 790902  ┆ 06:35 PM ┆ 2025-09-03 ┆ State College ┆ Williamsport ┆ F     ┆ 2735     ┆ Journey Bank │\n",
      "│         ┆          ┆            ┆ Spikes        ┆ Crosscutters ┆       ┆          ┆ Ballpark     │\n",
      "└─────────┴──────────┴────────────┴───────────────┴──────────────┴───────┴──────────┴──────────────┘\n"
     ]
    }
   ],
   "source": [
    "# Call the get_schedule method\n",
    "schedule = scraper.get_schedule(year_input=[2025], sport_id=[22], game_type=['R'])\n",
    "print(schedule)"
   ]
  },
  {
   "cell_type": "markdown",
   "metadata": {
    "id": "3aTsH2G0qcLY"
   },
   "source": [
    "#### get_data() and get_data_df()\n",
    "\n",
    "Retrieves live game data for a list of game IDs and Converts a list of game data JSON objects into a Polars DataFrame."
   ]
  },
  {
   "cell_type": "code",
   "execution_count": 8,
   "metadata": {
    "colab": {
     "base_uri": "https://localhost:8080/",
     "height": 384
    },
    "executionInfo": {
     "elapsed": 609,
     "status": "error",
     "timestamp": 1726588171521,
     "user": {
      "displayName": "Thomas Nestico",
      "userId": "11737412841197753986"
     },
     "user_tz": 240
    },
    "id": "G-kPFh_zqcLY",
    "outputId": "18724b9a-215d-45fd-a748-e448a7f58830"
   },
   "outputs": [
    {
     "name": "stdout",
     "output_type": "stream",
     "text": [
      "This May Take a While. Progress Bar shows Completion of Data Retrieval.\n"
     ]
    },
    {
     "name": "stderr",
     "output_type": "stream",
     "text": [
      "Processing: 100%|██████████| 1/1 [00:00<00:00,  3.85iteration/s]"
     ]
    },
    {
     "name": "stdout",
     "output_type": "stream",
     "text": [
      "Converting Data to Dataframe.\n",
      "shape: (304, 78)\n",
      "┌─────────┬────────────┬───────────┬─────────────┬───┬────────────┬──────┬────────────┬────────────┐\n",
      "│ game_id ┆ game_date  ┆ batter_id ┆ batter_name ┆ … ┆ event_type ┆ rbi  ┆ away_score ┆ home_score │\n",
      "│ ---     ┆ ---        ┆ ---       ┆ ---         ┆   ┆ ---        ┆ ---  ┆ ---        ┆ ---        │\n",
      "│ i64     ┆ str        ┆ i64       ┆ str         ┆   ┆ str        ┆ i64  ┆ i64        ┆ i64        │\n",
      "╞═════════╪════════════╪═══════════╪═════════════╪═══╪════════════╪══════╪════════════╪════════════╡\n",
      "│ 745444  ┆ 2024-03-20 ┆ 605141    ┆ Mookie      ┆ … ┆ null       ┆ null ┆ null       ┆ null       │\n",
      "│         ┆            ┆           ┆ Betts       ┆   ┆            ┆      ┆            ┆            │\n",
      "│ 745444  ┆ 2024-03-20 ┆ 605141    ┆ Mookie      ┆ … ┆ null       ┆ null ┆ null       ┆ null       │\n",
      "│         ┆            ┆           ┆ Betts       ┆   ┆            ┆      ┆            ┆            │\n",
      "│ 745444  ┆ 2024-03-20 ┆ 605141    ┆ Mookie      ┆ … ┆ null       ┆ null ┆ null       ┆ null       │\n",
      "│         ┆            ┆           ┆ Betts       ┆   ┆            ┆      ┆            ┆            │\n",
      "│ 745444  ┆ 2024-03-20 ┆ 605141    ┆ Mookie      ┆ … ┆ null       ┆ null ┆ null       ┆ null       │\n",
      "│         ┆            ┆           ┆ Betts       ┆   ┆            ┆      ┆            ┆            │\n",
      "│ 745444  ┆ 2024-03-20 ┆ 605141    ┆ Mookie      ┆ … ┆ walk       ┆ 0    ┆ 0          ┆ 0          │\n",
      "│         ┆            ┆           ┆ Betts       ┆   ┆            ┆      ┆            ┆            │\n",
      "│ …       ┆ …          ┆ …         ┆ …           ┆ … ┆ …          ┆ …    ┆ …          ┆ …          │\n",
      "│ 745444  ┆ 2024-03-20 ┆ 688363    ┆ Graham      ┆ … ┆ null       ┆ null ┆ null       ┆ null       │\n",
      "│         ┆            ┆           ┆ Pauley      ┆   ┆            ┆      ┆            ┆            │\n",
      "│ 745444  ┆ 2024-03-20 ┆ 688363    ┆ Graham      ┆ … ┆ strikeout  ┆ 0    ┆ 5          ┆ 2          │\n",
      "│         ┆            ┆           ┆ Pauley      ┆   ┆            ┆      ┆            ┆            │\n",
      "│ 745444  ┆ 2024-03-20 ┆ 669134    ┆ Luis        ┆ … ┆ null       ┆ null ┆ null       ┆ null       │\n",
      "│         ┆            ┆           ┆ Campusano   ┆   ┆            ┆      ┆            ┆            │\n",
      "│ 745444  ┆ 2024-03-20 ┆ 669134    ┆ Luis        ┆ … ┆ null       ┆ null ┆ null       ┆ null       │\n",
      "│         ┆            ┆           ┆ Campusano   ┆   ┆            ┆      ┆            ┆            │\n",
      "│ 745444  ┆ 2024-03-20 ┆ 669134    ┆ Luis        ┆ … ┆ field_out  ┆ 0    ┆ 5          ┆ 2          │\n",
      "│         ┆            ┆           ┆ Campusano   ┆   ┆            ┆      ┆            ┆            │\n",
      "└─────────┴────────────┴───────────┴─────────────┴───┴────────────┴──────┴────────────┴────────────┘\n",
      "['game_id', 'game_date', 'batter_id', 'batter_name', 'batter_hand', 'batter_team', 'batter_team_id', 'pitcher_id', 'pitcher_name', 'pitcher_hand', 'pitcher_team', 'pitcher_team_id', 'ab_number', 'play_description', 'play_code', 'in_play', 'is_strike', 'is_swing', 'is_whiff', 'is_out', 'is_ball', 'is_review', 'pitch_type', 'pitch_description', 'strikes', 'balls', 'outs', 'strikes_after', 'balls_after', 'outs_after', 'start_speed', 'end_speed', 'sz_top', 'sz_bot', 'x', 'y', 'ax', 'ay', 'az', 'pfxx', 'pfxz', 'px', 'pz', 'vx0', 'vy0', 'vz0', 'x0', 'y0', 'z0', 'zone', 'type_confidence', 'plate_time', 'extension', 'spin_rate', 'spin_direction', 'vb', 'ivb', 'hb', 'launch_speed', 'launch_angle', 'launch_distance', 'launch_location', 'trajectory', 'hardness', 'hit_x', 'hit_y', 'index_play', 'play_id', 'start_time', 'end_time', 'is_pitch', 'type_type', 'type_ab', 'event', 'event_type', 'rbi', 'away_score', 'home_score']\n"
     ]
    },
    {
     "name": "stderr",
     "output_type": "stream",
     "text": [
      "\n"
     ]
    }
   ],
   "source": [
    "# Call the get_data method\n",
    "game_data = scraper.get_data(game_list_input=[745444])\n",
    "# Call the get_data_df method\n",
    "data_df = scraper.get_data_df(data_list=game_data)\n",
    "print(data_df)\n",
    "print(data_df.columns)"
   ]
  },
  {
   "cell_type": "markdown",
   "metadata": {
    "id": "pZpMuM3UqcLY"
   },
   "source": [
    "#### get_teams()\n",
    "\n",
    "Retrieves information about MLB teams from the MLB Stats API and processes it into a Polars DataFrame."
   ]
  },
  {
   "cell_type": "code",
   "execution_count": 9,
   "metadata": {},
   "outputs": [
    {
     "name": "stdout",
     "output_type": "stream",
     "text": [
      "['Field Error', 'Groundout', None, 'Sac Fly', 'Flyout', 'Grounded Into DP', 'Strikeout', 'Hit By Pitch', 'Double Play', 'Lineout', 'Single', 'Forceout', 'Walk', 'Fielders Choice', 'Pop Out']\n"
     ]
    }
   ],
   "source": [
    "# Get unique values as a list and print\n",
    "print(data_df['event'].unique().to_list())\n",
    "\n"
   ]
  },
  {
   "cell_type": "code",
   "execution_count": 10,
   "metadata": {
    "executionInfo": {
     "elapsed": 2,
     "status": "aborted",
     "timestamp": 1726588171521,
     "user": {
      "displayName": "Thomas Nestico",
      "userId": "11737412841197753986"
     },
     "user_tz": 240
    },
    "id": "3QbQ9PVBqcLY"
   },
   "outputs": [
    {
     "name": "stdout",
     "output_type": "stream",
     "text": [
      "shape: (761, 10)\n",
      "┌─────────┬────────────┬───────────┬───────────┬───┬───────────┬───────────┬───────────┬───────────┐\n",
      "│ team_id ┆ city       ┆ name      ┆ franchise ┆ … ┆ parent_or ┆ league_id ┆ league_na ┆ parent_or │\n",
      "│ ---     ┆ ---        ┆ ---       ┆ ---       ┆   ┆ g         ┆ ---       ┆ me        ┆ g_abbrevi │\n",
      "│ i64     ┆ str        ┆ str       ┆ str       ┆   ┆ ---       ┆ i64       ┆ ---       ┆ ation     │\n",
      "│         ┆            ┆           ┆           ┆   ┆ str       ┆           ┆ str       ┆ ---       │\n",
      "│         ┆            ┆           ┆           ┆   ┆           ┆           ┆           ┆ str       │\n",
      "╞═════════╪════════════╪═══════════╪═══════════╪═══╪═══════════╪═══════════╪═══════════╪═══════════╡\n",
      "│ 100     ┆ Georgia    ┆ Yellow    ┆ Georgia   ┆ … ┆ Office of ┆ 107       ┆ College   ┆ null      │\n",
      "│         ┆ Tech       ┆ Jackets   ┆ Tech      ┆   ┆ the Commi ┆           ┆ Baseball  ┆           │\n",
      "│         ┆ Yellow     ┆           ┆ Yellow    ┆   ┆ ssioner   ┆           ┆           ┆           │\n",
      "│         ┆ Jackets    ┆           ┆ Jackets   ┆   ┆           ┆           ┆           ┆           │\n",
      "│ 101     ┆ Florida    ┆ Seminoles ┆ Florida   ┆ … ┆ Office of ┆ 107       ┆ College   ┆ null      │\n",
      "│         ┆ State      ┆           ┆ State     ┆   ┆ the Commi ┆           ┆ Baseball  ┆           │\n",
      "│         ┆ Seminoles  ┆           ┆ Seminoles ┆   ┆ ssioner   ┆           ┆           ┆           │\n",
      "│ 102     ┆ Round Rock ┆ Express   ┆ Round     ┆ … ┆ Texas     ┆ 112       ┆ Pacific   ┆ TEX       │\n",
      "│         ┆ Express    ┆           ┆ Rock      ┆   ┆ Rangers   ┆           ┆ Coast     ┆           │\n",
      "│         ┆            ┆           ┆ Express   ┆   ┆           ┆           ┆ League    ┆           │\n",
      "│ 103     ┆ Lake       ┆ Storm     ┆ Lake      ┆ … ┆ San Diego ┆ 110       ┆ Californi ┆ SD        │\n",
      "│         ┆ Elsinore   ┆           ┆ Elsinore  ┆   ┆ Padres    ┆           ┆ a League  ┆           │\n",
      "│         ┆ Storm      ┆           ┆ Storm     ┆   ┆           ┆           ┆           ┆           │\n",
      "│ 105     ┆ Sacramento ┆ River     ┆ Sacrament ┆ … ┆ San       ┆ 112       ┆ Pacific   ┆ SF        │\n",
      "│         ┆ River Cats ┆ Cats      ┆ o River   ┆   ┆ Francisco ┆           ┆ Coast     ┆           │\n",
      "│         ┆            ┆           ┆ Cats      ┆   ┆ Giants    ┆           ┆ League    ┆           │\n",
      "│ …       ┆ …          ┆ …         ┆ …         ┆ … ┆ …         ┆ …         ┆ …         ┆ …         │\n",
      "│ 6480    ┆ Bandits    ┆ Bandits   ┆ Bandits   ┆ … ┆ Office of ┆ 6044      ┆ Athletes  ┆ null      │\n",
      "│         ┆            ┆           ┆           ┆   ┆ the Commi ┆           ┆ Unlimited ┆           │\n",
      "│         ┆            ┆           ┆           ┆   ┆ ssioner   ┆           ┆ Softball  ┆           │\n",
      "│         ┆            ┆           ┆           ┆   ┆           ┆           ┆ Le…       ┆           │\n",
      "│ 6481    ┆ Talons     ┆ Talons    ┆ Talons    ┆ … ┆ Office of ┆ 6044      ┆ Athletes  ┆ null      │\n",
      "│         ┆            ┆           ┆           ┆   ┆ the Commi ┆           ┆ Unlimited ┆           │\n",
      "│         ┆            ┆           ┆           ┆   ┆ ssioner   ┆           ┆ Softball  ┆           │\n",
      "│         ┆            ┆           ┆           ┆   ┆           ┆           ┆ Le…       ┆           │\n",
      "│ 6482    ┆ Ontario    ┆ Tower     ┆ Ontario   ┆ … ┆ Los       ┆ 110       ┆ Californi ┆ LAD       │\n",
      "│         ┆ Tower      ┆ Buzzers   ┆ Tower     ┆   ┆ Angeles   ┆           ┆ a League  ┆           │\n",
      "│         ┆ Buzzers    ┆           ┆ Buzzers   ┆   ┆ Dodgers   ┆           ┆           ┆           │\n",
      "│ 6483    ┆ Jaguares   ┆ Nayarit   ┆ Jaguares  ┆ … ┆ Office of ┆ 132       ┆ Liga      ┆ null      │\n",
      "│         ┆ de Nayarit ┆           ┆ de        ┆   ┆ the Commi ┆           ┆ Mexicana  ┆           │\n",
      "│         ┆            ┆           ┆ Nayarit   ┆   ┆ ssioner   ┆           ┆ del       ┆           │\n",
      "│         ┆            ┆           ┆           ┆   ┆           ┆           ┆ Pacifico  ┆           │\n",
      "│ 6484    ┆ Tucson     ┆ Tucson    ┆ Tucson    ┆ … ┆ Office of ┆ 132       ┆ Liga      ┆ null      │\n",
      "│         ┆ Baseball   ┆           ┆ Baseball  ┆   ┆ the Commi ┆           ┆ Mexicana  ┆           │\n",
      "│         ┆ Club       ┆           ┆ Club      ┆   ┆ ssioner   ┆           ┆ del       ┆           │\n",
      "│         ┆            ┆           ┆           ┆   ┆           ┆           ┆ Pacifico  ┆           │\n",
      "└─────────┴────────────┴───────────┴───────────┴───┴───────────┴───────────┴───────────┴───────────┘\n"
     ]
    }
   ],
   "source": [
    "# Call the get_teams method\n",
    "teams = scraper.get_teams()\n",
    "print(teams)"
   ]
  },
  {
   "cell_type": "markdown",
   "metadata": {
    "id": "hH6mGl19qcLZ"
   },
   "source": [
    "#### get_leagues()\n",
    "Retrieves information about MLB leagues from the MLB Stats API and processes it into a Polars DataFrame."
   ]
  },
  {
   "cell_type": "code",
   "execution_count": 11,
   "metadata": {
    "executionInfo": {
     "elapsed": 3,
     "status": "aborted",
     "timestamp": 1726588171522,
     "user": {
      "displayName": "Thomas Nestico",
      "userId": "11737412841197753986"
     },
     "user_tz": 240
    },
    "id": "c_JY1Y2yqcLZ"
   },
   "outputs": [
    {
     "name": "stdout",
     "output_type": "stream",
     "text": [
      "shape: (117, 4)\n",
      "┌───────────┬─────────────────────────────────┬─────────────────────┬──────────┐\n",
      "│ league_id ┆ league_name                     ┆ league_abbreviation ┆ sport_id │\n",
      "│ ---       ┆ ---                             ┆ ---                 ┆ ---      │\n",
      "│ i64       ┆ str                             ┆ str                 ┆ i64      │\n",
      "╞═══════════╪═════════════════════════════════╪═════════════════════╪══════════╡\n",
      "│ 103       ┆ American League                 ┆ AL                  ┆ 1        │\n",
      "│ 104       ┆ National League                 ┆ NL                  ┆ 1        │\n",
      "│ 114       ┆ Cactus League                   ┆ CL                  ┆ null     │\n",
      "│ 115       ┆ Grapefruit League               ┆ GL                  ┆ null     │\n",
      "│ 117       ┆ International League            ┆ INT                 ┆ 11       │\n",
      "│ …         ┆ …                               ┆ …                   ┆ …        │\n",
      "│ 108       ┆ College Baseball                ┆ CBB                 ┆ 22       │\n",
      "│ 587       ┆ Showcase Games                  ┆ SG                  ┆ 586      │\n",
      "│ 625       ┆ Tournament 12                   ┆ T12                 ┆ null     │\n",
      "│ 577       ┆ National Pro Fastpitch          ┆ NPF                 ┆ 576      │\n",
      "│ 6044      ┆ Athletes Unlimited Softball Le… ┆ AUSL                ┆ 576      │\n",
      "└───────────┴─────────────────────────────────┴─────────────────────┴──────────┘\n",
      "['American League', 'National League', 'Cactus League', 'Grapefruit League', 'International League', 'Pacific Coast League', 'American Association', 'American Association', 'Eastern League', 'Southern League', 'Texas League', 'Southern Association', 'South Atlantic League', 'South Atlantic League', 'Midwest League', 'Northwest League', 'Carolina League', 'Florida State League', 'California League', 'Central League', 'Georgia-Florida League', 'New-York Penn League', 'Northern League', 'Western League', 'Western International League', 'Western Carolinas League', 'Arizona Complex League', 'Florida Complex League', 'Dominican Summer League', 'Venezuelan Summer League', 'Arizona Fall League', 'Liga Mexicana del Pacifico', 'Liga Venezuela Beisbol Profesional', 'Liga de Beisbol Profesional Roberto Clemente', 'Liga de Beisbol Dominicano', 'Australian Baseball League', 'Hawaii Winter Baseball', 'Caribbean Series', 'Futures Game', 'Extended Spring Training', 'Mississippi-Ohio Valley League', 'Pennsylvania-Ontario-New York League', 'Illinois State League', 'Atlantic League', 'Mexican League', 'Pioneer League', 'Frontier League', 'Israel Baseball League', 'All-American Association', 'Arizona-Mexico League', 'Big South League', 'Canadian Baseball League', 'Canadian-American Association', 'Central Baseball League', 'Golden Baseball League', 'Heartland League', 'Mid-America League', 'North Atlantic League', 'North Central League', 'Northeast League', 'Northern League', 'Prairie League', 'Southeastern League', 'Texas-Louisiana League', 'Western League', 'Negro National League (II)', 'Negro National League (I)', 'Negro East West League', 'Negro American League', 'Eastern Colored League', 'American Negro League', 'Negro Southern League', 'Korean Baseball Organization', 'Central League', 'Pacific League', 'American Association', 'National Association', 'Players League', 'Union Association', 'Federal League', 'International Baseball (Collegiate)', 'China Baseball Association', 'Chinese Professional Baseball League', 'International Competition', 'Amateur Scouting League', 'CONCEBE Regional Olympic Qualifying Tournament', 'World Baseball Classic Qualifiers', 'World Baseball Classic', 'International Exhibition', 'Japan All-Star Series', 'USA vs. Canada Olympic Exhibitions', 'Winter Leagues', 'USA National Team vs. Chinese Taipei', 'USA National Team vs. Martinsville Mustangs', 'Haarlem Baseball Week', 'USA National Team vs. Team Germany', 'USA National Team vs. Team Czech Republic', 'IV FISU World Collegiate Baseball Championship', 'Prospect Development Pipeline', 'International Baseball (18U)', 'IBAF World AAA Junior Championships', 'USA Baseball 16U Championships – West', 'USA Baseball 16U Championships – East', \"COPABE 'AA' Pan Am Championships\", \"COPABE 'A' Pan Am Qualifier\", \"USA Baseball Women's National Team vs. Canada\", \"Women's Baseball\", 'MLB Draft League', 'Appalachian League', 'New York-Penn League', 'Cape Cod Baseball League', 'College Baseball', 'College Baseball', 'Showcase Games', 'Tournament 12', 'National Pro Fastpitch', 'Athletes Unlimited Softball League']\n"
     ]
    }
   ],
   "source": [
    "# Call the get_leagues method\n",
    "leagues = scraper.get_leagues()\n",
    "print(leagues)\n",
    "print(leagues['league_name'].to_list())\n"
   ]
  },
  {
   "cell_type": "code",
   "execution_count": 12,
   "metadata": {},
   "outputs": [
    {
     "name": "stdout",
     "output_type": "stream",
     "text": [
      "shape: (1, 4)\n",
      "┌───────────┬─────────────────────┬─────────────────────┬──────────┐\n",
      "│ league_id ┆ league_name         ┆ league_abbreviation ┆ sport_id │\n",
      "│ ---       ┆ ---                 ┆ ---                 ┆ ---      │\n",
      "│ i64       ┆ str                 ┆ str                 ┆ i64      │\n",
      "╞═══════════╪═════════════════════╪═════════════════════╪══════════╡\n",
      "│ 119       ┆ Arizona Fall League ┆ AFL                 ┆ 17       │\n",
      "└───────────┴─────────────────────┴─────────────────────┴──────────┘\n",
      "shape: (1,)\n",
      "Series: 'sport_id' [i64]\n",
      "[\n",
      "\t17\n",
      "]\n"
     ]
    }
   ],
   "source": [
    "# Filter the leagues DataFrame for 'MLB Draft League'\n",
    "mlb_draft_league = leagues.filter(leagues['league_name'] == \"Arizona Fall League\")\n",
    "\n",
    "# Print the full row(s) to see all details\n",
    "print(mlb_draft_league)\n",
    "\n",
    "# Or print just the sport_id\n",
    "print(mlb_draft_league['sport_id'])"
   ]
  },
  {
   "cell_type": "markdown",
   "metadata": {
    "id": "XejiTjzWqcLZ"
   },
   "source": [
    "#### get_player_games_list()\n",
    "Retrieves a list of game IDs for a specific player in a given season."
   ]
  },
  {
   "cell_type": "code",
   "execution_count": 13,
   "metadata": {
    "executionInfo": {
     "elapsed": 3,
     "status": "aborted",
     "timestamp": 1726588171522,
     "user": {
      "displayName": "Thomas Nestico",
      "userId": "11737412841197753986"
     },
     "user_tz": 240
    },
    "id": "L3JFiLqSqcLZ"
   },
   "outputs": [
    {
     "name": "stdout",
     "output_type": "stream",
     "text": [
      "[745444, 746175, 746165, 746167, 746168, 746166, 746170, 746169, 746163, 746897, 746896, 746895, 745925, 745924, 745923, 746162, 746161, 746164, 746158, 746157, 746159, 746160, 746156, 746154, 744863, 744864, 744867, 744949, 744946, 744947, 747211, 747210, 746152, 746155, 746153, 746149, 746147, 746151, 745421, 745422, 745343, 745342, 745341, 746150, 746148, 746142, 746144, 746146, 746145, 746143, 746713, 746710, 746711, 745818, 745817, 746140, 746138, 746141, 745497, 745494, 745495, 745737, 745735, 745736, 746139, 746137, 746136, 746134, 746135, 746130, 746543, 746542, 746538, 746539, 746131, 746132, 746780, 746775, 746777, 745319, 745317, 745320, 746133, 746128, 746126, 746127, 746129, 746122, 745557, 745556, 745558, 746450, 746447, 746449, 746123, 746121, 746125, 746124, 746118, 746119, 746117, 746361, 746362, 746364, 745389, 745386, 745631, 745636, 745627, 746116, 746120, 746115, 746113, 746112, 746114, 745953, 745954, 745951, 745950, 745144, 745140, 745139, 746109, 746107, 746110, 746111, 746108, 746106, 746105, 746103, 746102, 747156, 747158, 747157, 747155, 746185, 746178, 746104, 746099, 746098, 746101, 746097, 746100, 747069, 747070, 747071, 747067, 746015, 746014, 746011, 746094, 746096, 746092, 746093, 746095, 746088, 746494, 746499, 746496]\n"
     ]
    }
   ],
   "source": [
    "# Call the get_player_games_list method\n",
    "player_games = scraper.get_player_games_list(player_id=660271, season=2024, pitching=False)\n",
    "print(player_games)"
   ]
  },
  {
   "cell_type": "markdown",
   "metadata": {
    "id": "bfawIEWoqcLZ"
   },
   "source": [
    "#### get_game_types()\n",
    "Retrieves the different types of MLB games from the MLB Stats API and processes them into a Polars DataFrame."
   ]
  },
  {
   "cell_type": "code",
   "execution_count": 14,
   "metadata": {
    "executionInfo": {
     "elapsed": 3,
     "status": "aborted",
     "timestamp": 1726588171522,
     "user": {
      "displayName": "Thomas Nestico",
      "userId": "11737412841197753986"
     },
     "user_tz": 240
    },
    "id": "IIh-iRIHqcLZ"
   },
   "outputs": [
    {
     "name": "stdout",
     "output_type": "stream",
     "text": [
      "shape: (12, 2)\n",
      "┌─────┬────────────────────────────┐\n",
      "│ id  ┆ description                │\n",
      "│ --- ┆ ---                        │\n",
      "│ str ┆ str                        │\n",
      "╞═════╪════════════════════════════╡\n",
      "│ S   ┆ Spring Training            │\n",
      "│ R   ┆ Regular Season             │\n",
      "│ F   ┆ Wild Card                  │\n",
      "│ D   ┆ Division Series            │\n",
      "│ L   ┆ League Championship Series │\n",
      "│ …   ┆ …                          │\n",
      "│ N   ┆ Nineteenth Century Series  │\n",
      "│ P   ┆ Playoffs                   │\n",
      "│ A   ┆ All-Star Game              │\n",
      "│ I   ┆ Intrasquad                 │\n",
      "│ E   ┆ Exhibition                 │\n",
      "└─────┴────────────────────────────┘\n"
     ]
    }
   ],
   "source": [
    "# Call the get_game_types method\n",
    "game_types = scraper.get_game_types()\n",
    "#show all 12 game types\n",
    "\n",
    "print(game_types)"
   ]
  },
  {
   "cell_type": "markdown",
   "metadata": {
    "id": "I2WzlA9KqcLZ"
   },
   "source": [
    "#### get_players()\n",
    "Retrieves player information from the MLB Stats API and processes them into a Polars DataFrame."
   ]
  },
  {
   "cell_type": "code",
   "execution_count": 15,
   "metadata": {
    "executionInfo": {
     "elapsed": 3,
     "status": "aborted",
     "timestamp": 1726588171522,
     "user": {
      "displayName": "Thomas Nestico",
      "userId": "11737412841197753986"
     },
     "user_tz": 240
    },
    "id": "M_atIYP3qcLa"
   },
   "outputs": [
    {
     "name": "stdout",
     "output_type": "stream",
     "text": [
      "shape: (1_482, 6)\n",
      "┌───────────┬────────────┬───────────┬──────────────────────┬──────────┬──────┐\n",
      "│ player_id ┆ first_name ┆ last_name ┆ name                 ┆ position ┆ team │\n",
      "│ ---       ┆ ---        ┆ ---       ┆ ---                  ┆ ---      ┆ ---  │\n",
      "│ i64       ┆ str        ┆ str       ┆ str                  ┆ str      ┆ i64  │\n",
      "╞═══════════╪════════════╪═══════════╪══════════════════════╪══════════╪══════╡\n",
      "│ 434378    ┆ Justin     ┆ Verlander ┆ Justin Verlander     ┆ P        ┆ 137  │\n",
      "│ 445276    ┆ Kenley     ┆ Jansen    ┆ Kenley Jansen        ┆ P        ┆ 108  │\n",
      "│ 445926    ┆ Jesse      ┆ Chavez    ┆ Jesse Chavez         ┆ P        ┆ 144  │\n",
      "│ 450203    ┆ Charles    ┆ Morton    ┆ Charlie Morton       ┆ P        ┆ 110  │\n",
      "│ 453286    ┆ Maxwell    ┆ Scherzer  ┆ Max Scherzer         ┆ P        ┆ 141  │\n",
      "│ …         ┆ …          ┆ …         ┆ …                    ┆ …        ┆ …    │\n",
      "│ 828470    ┆ Nicholas   ┆ Wissman   ┆ Nick Wissman         ┆ P        ┆ 135  │\n",
      "│ 828496    ┆ Jonathan   ┆ Todd      ┆ Jonathan Todd        ┆ P        ┆ 141  │\n",
      "│ 828774    ┆ Jack       ┆ Hostetler ┆ Jack Hostetler       ┆ P        ┆ 158  │\n",
      "│ 829272    ┆ Shinnosuke ┆ Ogasawara ┆ Shinnosuke Ogasawara ┆ P        ┆ 120  │\n",
      "│ 829460    ┆ Koyo       ┆ Aoyagi    ┆ Koyo Aoyagi          ┆ P        ┆ 143  │\n",
      "└───────────┴────────────┴───────────┴──────────────────────┴──────────┴──────┘\n",
      "['player_id', 'first_name', 'last_name', 'name', 'position', 'team']\n"
     ]
    }
   ],
   "source": [
    "df_player = scraper.get_players(sport_id=1,season=2025,game_type=['S'])\n",
    "print(df_player)\n",
    "print(df_player.columns)"
   ]
  },
  {
   "cell_type": "code",
   "execution_count": null,
   "metadata": {},
   "outputs": [],
   "source": []
  },
  {
   "cell_type": "markdown",
   "metadata": {
    "id": "t0KQ2H6uqcLa"
   },
   "source": [
    "## Example"
   ]
  },
  {
   "cell_type": "markdown",
   "metadata": {
    "id": "uj9wsnXXqcLa"
   },
   "source": [
    "In this example we will return all the pitch-by-pitch data for Bryce Miller in the 2024 MLB Regular Season"
   ]
  },
  {
   "cell_type": "code",
   "execution_count": 16,
   "metadata": {
    "executionInfo": {
     "elapsed": 3,
     "status": "aborted",
     "timestamp": 1726588171522,
     "user": {
      "displayName": "Thomas Nestico",
      "userId": "11737412841197753986"
     },
     "user_tz": 240
    },
    "id": "0nCMzcPFqcLa"
   },
   "outputs": [
    {
     "name": "stdout",
     "output_type": "stream",
     "text": [
      "This May Take a While. Progress Bar shows Completion of Data Retrieval.\n"
     ]
    },
    {
     "name": "stderr",
     "output_type": "stream",
     "text": [
      "Processing: 100%|██████████| 4/4 [00:00<00:00,  8.32iteration/s]"
     ]
    },
    {
     "name": "stdout",
     "output_type": "stream",
     "text": [
      "Converting Data to Dataframe.\n",
      "shape: (1_180, 78)\n",
      "┌─────────┬────────────┬───────────┬─────────────┬───┬────────────┬──────┬────────────┬────────────┐\n",
      "│ game_id ┆ game_date  ┆ batter_id ┆ batter_name ┆ … ┆ event_type ┆ rbi  ┆ away_score ┆ home_score │\n",
      "│ ---     ┆ ---        ┆ ---       ┆ ---         ┆   ┆ ---        ┆ ---  ┆ ---        ┆ ---        │\n",
      "│ i64     ┆ str        ┆ i64       ┆ str         ┆   ┆ str        ┆ i64  ┆ i64        ┆ i64        │\n",
      "╞═════════╪════════════╪═══════════╪═════════════╪═══╪════════════╪══════╪════════════╪════════════╡\n",
      "│ 779038  ┆ 2025-02-25 ┆ 642201    ┆ Eli White   ┆ … ┆ null       ┆ null ┆ null       ┆ null       │\n",
      "│ 779038  ┆ 2025-02-25 ┆ 642201    ┆ Eli White   ┆ … ┆ null       ┆ null ┆ null       ┆ null       │\n",
      "│ 779038  ┆ 2025-02-25 ┆ 642201    ┆ Eli White   ┆ … ┆ single     ┆ 0    ┆ 0          ┆ 0          │\n",
      "│ 779038  ┆ 2025-02-25 ┆ 805373    ┆ Nacho       ┆ … ┆ null       ┆ null ┆ null       ┆ null       │\n",
      "│         ┆            ┆           ┆ Alvarez Jr. ┆   ┆            ┆      ┆            ┆            │\n",
      "│ 779038  ┆ 2025-02-25 ┆ 805373    ┆ Nacho       ┆ … ┆ null       ┆ null ┆ null       ┆ null       │\n",
      "│         ┆            ┆           ┆ Alvarez Jr. ┆   ┆            ┆      ┆            ┆            │\n",
      "│ …       ┆ …          ┆ …         ┆ …           ┆ … ┆ …          ┆ …    ┆ …          ┆ …          │\n",
      "│ 778875  ┆ 2025-03-13 ┆ 703177    ┆ Jhonny      ┆ … ┆ null       ┆ null ┆ null       ┆ null       │\n",
      "│         ┆            ┆           ┆ Severino    ┆   ┆            ┆      ┆            ┆            │\n",
      "│ 778875  ┆ 2025-03-13 ┆ 703177    ┆ Jhonny      ┆ … ┆ null       ┆ null ┆ null       ┆ null       │\n",
      "│         ┆            ┆           ┆ Severino    ┆   ┆            ┆      ┆            ┆            │\n",
      "│ 778875  ┆ 2025-03-13 ┆ 703177    ┆ Jhonny      ┆ … ┆ null       ┆ null ┆ null       ┆ null       │\n",
      "│         ┆            ┆           ┆ Severino    ┆   ┆            ┆      ┆            ┆            │\n",
      "│ 778875  ┆ 2025-03-13 ┆ 703177    ┆ Jhonny      ┆ … ┆ null       ┆ null ┆ null       ┆ null       │\n",
      "│         ┆            ┆           ┆ Severino    ┆   ┆            ┆      ┆            ┆            │\n",
      "│ 778875  ┆ 2025-03-13 ┆ 703177    ┆ Jhonny      ┆ … ┆ strikeout  ┆ 0    ┆ 3          ┆ 15         │\n",
      "│         ┆            ┆           ┆ Severino    ┆   ┆            ┆      ┆            ┆            │\n",
      "└─────────┴────────────┴───────────┴─────────────┴───┴────────────┴──────┴────────────┴────────────┘\n",
      "['game_id', 'game_date', 'batter_id', 'batter_name', 'batter_hand', 'batter_team', 'batter_team_id', 'pitcher_id', 'pitcher_name', 'pitcher_hand', 'pitcher_team', 'pitcher_team_id', 'ab_number', 'play_description', 'play_code', 'in_play', 'is_strike', 'is_swing', 'is_whiff', 'is_out', 'is_ball', 'is_review', 'pitch_type', 'pitch_description', 'strikes', 'balls', 'outs', 'strikes_after', 'balls_after', 'outs_after', 'start_speed', 'end_speed', 'sz_top', 'sz_bot', 'x', 'y', 'ax', 'ay', 'az', 'pfxx', 'pfxz', 'px', 'pz', 'vx0', 'vy0', 'vz0', 'x0', 'y0', 'z0', 'zone', 'type_confidence', 'plate_time', 'extension', 'spin_rate', 'spin_direction', 'vb', 'ivb', 'hb', 'launch_speed', 'launch_angle', 'launch_distance', 'launch_location', 'trajectory', 'hardness', 'hit_x', 'hit_y', 'index_play', 'play_id', 'start_time', 'end_time', 'is_pitch', 'type_type', 'type_ab', 'event', 'event_type', 'rbi', 'away_score', 'home_score']\n"
     ]
    },
    {
     "name": "stderr",
     "output_type": "stream",
     "text": [
      "\n"
     ]
    }
   ],
   "source": [
    "import polars as pl\n",
    "\n",
    "player_id = 683003\n",
    "season = 2025\n",
    "player_games = scraper.get_player_games_list(player_id=player_id, season=season, game_type=['S'], pitching=True,)\n",
    "\n",
    "# Get Data for Bryce Miler\n",
    "data = scraper.get_data(game_list_input=player_games)\n",
    "df = scraper.get_data_df(data_list=data)\n",
    "# Print the data\n",
    "print(df)\n",
    "print(df.columns)"
   ]
  },
  {
   "cell_type": "code",
   "execution_count": 17,
   "metadata": {},
   "outputs": [
    {
     "name": "stdout",
     "output_type": "stream",
     "text": [
      "This May Take a While. Progress Bar shows Completion of Data Retrieval.\n"
     ]
    },
    {
     "name": "stderr",
     "output_type": "stream",
     "text": [
      "Processing:   0%|          | 0/3 [00:00<?, ?iteration/s]"
     ]
    },
    {
     "name": "stderr",
     "output_type": "stream",
     "text": [
      "Processing: 100%|██████████| 3/3 [00:00<00:00,  5.59iteration/s]\n"
     ]
    },
    {
     "name": "stdout",
     "output_type": "stream",
     "text": [
      "Converting Data to Dataframe.\n",
      "shape: (18,)\n",
      "Series: 'event' [str]\n",
      "[\n",
      "\t\"Groundout\"\n",
      "\t\"Home Run\"\n",
      "\t\"Double Play\"\n",
      "\t\"Flyout\"\n",
      "\t\"Strikeout\"\n",
      "\t…\n",
      "\t\"Walk\"\n",
      "\t\"Grounded Into DP\"\n",
      "\t\"Fielders Choice\"\n",
      "\t\"Hit By Pitch\"\n",
      "\t\"Sac Fly\"\n",
      "]\n",
      "[None, 'Forceout', 'Walk', 'Grounded Into DP', 'Groundout', 'Field Error', 'Double Play', 'Strikeout', 'Fielders Choice', 'Hit By Pitch', 'Home Run', 'Lineout', 'Single', 'Runner Out', 'Double', 'Pop Out', 'Flyout', 'Sac Fly']\n"
     ]
    }
   ],
   "source": [
    "import polars as pl\n",
    "\n",
    "# Set player ID and season\n",
    "player_id = 696149\n",
    "season = 2025\n",
    "\n",
    "# Get player games list for the specified season\n",
    "player_games = scraper.get_player_games_list(player_id=player_id, season=season, game_type=['S'], pitching=True)\n",
    "\n",
    "# Get the data using the game list\n",
    "data = scraper.get_data(game_list_input=player_games)\n",
    "\n",
    "# Convert the data into a DataFrame\n",
    "df = scraper.get_data_df(data_list=data)\n",
    "\n",
    "# Get unique values for 'event' and 'event_type'\n",
    "print(df['event'].unique())\n",
    "# Convert the unique events to a list\n",
    "# Convert the unique events to a list\n",
    "event_list = list(df['event'].unique())\n",
    "print(event_list)\n",
    "\n",
    "\n"
   ]
  },
  {
   "cell_type": "code",
   "execution_count": 18,
   "metadata": {},
   "outputs": [
    {
     "name": "stdout",
     "output_type": "stream",
     "text": [
      "shape: (247, 78)\n",
      "┌─────────┬────────────┬───────────┬─────────────┬───┬────────────┬──────┬────────────┬────────────┐\n",
      "│ game_id ┆ game_date  ┆ batter_id ┆ batter_name ┆ … ┆ event_type ┆ rbi  ┆ away_score ┆ home_score │\n",
      "│ ---     ┆ ---        ┆ ---       ┆ ---         ┆   ┆ ---        ┆ ---  ┆ ---        ┆ ---        │\n",
      "│ i64     ┆ str        ┆ i64       ┆ str         ┆   ┆ str        ┆ i64  ┆ i64        ┆ i64        │\n",
      "╞═════════╪════════════╪═══════════╪═════════════╪═══╪════════════╪══════╪════════════╪════════════╡\n",
      "│ 779039  ┆ 2025-02-23 ┆ 666397    ┆ Edouard     ┆ … ┆ single     ┆ 0    ┆ 0          ┆ 0          │\n",
      "│         ┆            ┆           ┆ Julien      ┆   ┆            ┆      ┆            ┆            │\n",
      "│ 779039  ┆ 2025-02-23 ┆ 686797    ┆ Brooks Lee  ┆ … ┆ null       ┆ null ┆ null       ┆ null       │\n",
      "│ 779039  ┆ 2025-02-23 ┆ 686797    ┆ Brooks Lee  ┆ … ┆ grounded_i ┆ 0    ┆ 0          ┆ 0          │\n",
      "│         ┆            ┆           ┆             ┆   ┆ nto_double ┆      ┆            ┆            │\n",
      "│         ┆            ┆           ┆             ┆   ┆ _play      ┆      ┆            ┆            │\n",
      "│ 779039  ┆ 2025-02-23 ┆ 680777    ┆ Ryan        ┆ … ┆ null       ┆ null ┆ null       ┆ null       │\n",
      "│         ┆            ┆           ┆ Jeffers     ┆   ┆            ┆      ┆            ┆            │\n",
      "│ 779039  ┆ 2025-02-23 ┆ 680777    ┆ Ryan        ┆ … ┆ field_out  ┆ 0    ┆ 0          ┆ 0          │\n",
      "│         ┆            ┆           ┆ Jeffers     ┆   ┆            ┆      ┆            ┆            │\n",
      "│ …       ┆ …          ┆ …         ┆ …           ┆ … ┆ …          ┆ …    ┆ …          ┆ …          │\n",
      "│ 779039  ┆ 2025-02-23 ┆ 682616    ┆ Diego       ┆ … ┆ strikeout  ┆ 0    ┆ 1          ┆ 5          │\n",
      "│         ┆            ┆           ┆ Cartaya     ┆   ┆            ┆      ┆            ┆            │\n",
      "│ 779039  ┆ 2025-02-23 ┆ 693306    ┆ Aaron       ┆ … ┆ null       ┆ null ┆ null       ┆ null       │\n",
      "│         ┆            ┆           ┆ Sabato      ┆   ┆            ┆      ┆            ┆            │\n",
      "│ 779039  ┆ 2025-02-23 ┆ 693306    ┆ Aaron       ┆ … ┆ null       ┆ null ┆ null       ┆ null       │\n",
      "│         ┆            ┆           ┆ Sabato      ┆   ┆            ┆      ┆            ┆            │\n",
      "│ 779039  ┆ 2025-02-23 ┆ 693306    ┆ Aaron       ┆ … ┆ field_out  ┆ 0    ┆ 1          ┆ 5          │\n",
      "│         ┆            ┆           ┆ Sabato      ┆   ┆            ┆      ┆            ┆            │\n",
      "│ 779039  ┆ 2025-02-23 ┆ 678323    ┆ Allan Cerda ┆ … ┆ field_out  ┆ 0    ┆ 1          ┆ 5          │\n",
      "└─────────┴────────────┴───────────┴─────────────┴───┴────────────┴──────┴────────────┴────────────┘\n"
     ]
    }
   ],
   "source": [
    "# Specify the game date you're interested in\n",
    "game_date_to_filter = '2025-02-23'  # Replace with the game date you want to filter (format: 'YYYY-MM-DD')\n",
    "\n",
    "# Filter the DataFrame for the specific game_date\n",
    "specific_game_data = df.filter(df['game_date'] == game_date_to_filter)\n",
    "\n",
    "# Print the filtered data for the specific game\n",
    "print(specific_game_data)"
   ]
  },
  {
   "cell_type": "markdown",
   "metadata": {
    "id": "Ya241ikuqcLa"
   },
   "source": [
    "With the DataFrame, we can filter only pitches thrown by Bryce Miller this season and then group by pitch type to get the metrics for each pitch.\n",
    "\n",
    "We will be getting the following metrics:\n",
    "- pitches: Number of Pitches\n",
    "- start_speed: Initial Velocity of the Pitch (mph)\n",
    "- ivb: Induced Vertical Break (in)\n",
    "- hb: Horizontal Break (in)\n",
    "- spin_rate: Spin Rate (rpm)"
   ]
  },
  {
   "cell_type": "code",
   "execution_count": 19,
   "metadata": {
    "executionInfo": {
     "elapsed": 3,
     "status": "aborted",
     "timestamp": 1726588171522,
     "user": {
      "displayName": "Thomas Nestico",
      "userId": "11737412841197753986"
     },
     "user_tz": 240
    },
    "id": "9_M7NMO7qcLa"
   },
   "outputs": [
    {
     "name": "stdout",
     "output_type": "stream",
     "text": [
      "This May Take a While. Progress Bar shows Completion of Data Retrieval.\n"
     ]
    },
    {
     "name": "stderr",
     "output_type": "stream",
     "text": [
      "Processing:   0%|          | 0/4 [00:00<?, ?iteration/s]"
     ]
    },
    {
     "name": "stderr",
     "output_type": "stream",
     "text": [
      "Processing: 100%|██████████| 4/4 [00:00<00:00,  5.34iteration/s]\n"
     ]
    },
    {
     "name": "stdout",
     "output_type": "stream",
     "text": [
      "Converting Data to Dataframe.\n",
      "shape: (18, 8)\n",
      "┌────────────┬────────────┬────────────┬─────────┬─────────────┬──────┬─────┬────────────┐\n",
      "│ pitcher_id ┆ pitch_type ┆ game_date  ┆ pitches ┆ start_speed ┆ vz0  ┆ vx0 ┆ proportion │\n",
      "│ ---        ┆ ---        ┆ ---        ┆ ---     ┆ ---         ┆ ---  ┆ --- ┆ ---        │\n",
      "│ i64        ┆ str        ┆ str        ┆ u32     ┆ f64         ┆ f64  ┆ f64 ┆ f64        │\n",
      "╞════════════╪════════════╪════════════╪═════════╪═════════════╪══════╪═════╪════════════╡\n",
      "│ 683003     ┆ FF         ┆ 2025-03-13 ┆ 34      ┆ 95.8        ┆ -6.4 ┆ 6.1 ┆ 0.168      │\n",
      "│ 683003     ┆ FF         ┆ 2025-03-07 ┆ 32      ┆ 96.7        ┆ -5.8 ┆ 6.0 ┆ 0.158      │\n",
      "│ 683003     ┆ SL         ┆ 2025-03-07 ┆ 21      ┆ 90.0        ┆ -4.5 ┆ 2.9 ┆ 0.104      │\n",
      "│ 683003     ┆ FF         ┆ 2025-03-02 ┆ 18      ┆ 97.3        ┆ -5.6 ┆ 5.8 ┆ 0.089      │\n",
      "│ 683003     ┆ FF         ┆ 2025-02-25 ┆ 13      ┆ 96.9        ┆ -7.0 ┆ 5.9 ┆ 0.064      │\n",
      "│ …          ┆ …          ┆ …          ┆ …       ┆ …           ┆ …    ┆ …   ┆ …          │\n",
      "│ 683003     ┆ CU         ┆ 2025-03-02 ┆ 5       ┆ 82.7        ┆ -0.6 ┆ 1.9 ┆ 0.025      │\n",
      "│ 683003     ┆ CU         ┆ 2025-03-13 ┆ 4       ┆ 80.7        ┆ 2.4  ┆ 4.1 ┆ 0.02       │\n",
      "│ 683003     ┆ SI         ┆ 2025-03-07 ┆ 4       ┆ 96.4        ┆ -5.6 ┆ 3.9 ┆ 0.02       │\n",
      "│ 683003     ┆ CU         ┆ 2025-03-07 ┆ 4       ┆ 81.9        ┆ -0.7 ┆ 3.6 ┆ 0.02       │\n",
      "│ 683003     ┆ SI         ┆ 2025-03-02 ┆ 2       ┆ 95.9        ┆ -3.6 ┆ 3.6 ┆ 0.01       │\n",
      "└────────────┴────────────┴────────────┴─────────┴─────────────┴──────┴─────┴────────────┘\n"
     ]
    }
   ],
   "source": [
    "player_id = 683003\n",
    "season = 2025\n",
    "player_games = scraper.get_player_games_list(player_id=player_id, season=season, game_type=['S'], pitching=True)\n",
    "\n",
    "# Get the data using the game list\n",
    "data = scraper.get_data(game_list_input=player_games)\n",
    "\n",
    "# Convert the data into a DataFrame\n",
    "df = scraper.get_data_df(data_list=data)\n",
    "# Group the data by pitch type\n",
    "grouped_df = (\n",
    "    df.filter(pl.col(\"pitcher_id\") == player_id)\n",
    "    .group_by(['pitcher_id', 'pitch_type', 'game_date'])\n",
    "    .agg([\n",
    "        pl.col('is_pitch').drop_nans().count().alias('pitches'),\n",
    "        pl.col('start_speed').drop_nans().mean().round(1).alias('start_speed'),\n",
    "        # pl.col('ivb').drop_nans().mean().round(1).alias('ivb'),\n",
    "        # pl.col('hb').drop_nans().mean().round(1).alias('hb'),\n",
    "        pl.col('vz0').drop_nans().mean().round(1).alias('vz0'),\n",
    "        pl.col('vx0').drop_nans().mean().round(1).alias('vx0'),\n",
    "        # pl.col('spin_rate').drop_nans().mean().round(0).alias('spin_rate'),\n",
    "        # pl.col('extension').drop_nans().mean().round(0).alias('extension'),\n",
    "    ])\n",
    "    .with_columns(\n",
    "        (pl.col('pitches') / pl.col('pitches').sum().over('pitcher_id')).round(3).alias('proportion')\n",
    "    )\n",
    "    ).sort('proportion', descending=True)\n",
    "\n",
    "# Display the grouped DataFrame\n",
    "print(grouped_df)"
   ]
  },
  {
   "cell_type": "code",
   "execution_count": 20,
   "metadata": {},
   "outputs": [
    {
     "name": "stdout",
     "output_type": "stream",
     "text": [
      "shape: (1, 10)\n",
      "┌───────────┬────────────┬───────────┬───────────────┬───┬────────┬────────┬─────┬────────────┐\n",
      "│ player_id ┆ first_name ┆ last_name ┆ name          ┆ … ┆ weight ┆ height ┆ age ┆ birthDate  │\n",
      "│ ---       ┆ ---        ┆ ---       ┆ ---           ┆   ┆ ---    ┆ ---    ┆ --- ┆ ---        │\n",
      "│ i64       ┆ str        ┆ str       ┆ str           ┆   ┆ i64    ┆ str    ┆ i64 ┆ str        │\n",
      "╞═══════════╪════════════╪═══════════╪═══════════════╪═══╪════════╪════════╪═════╪════════════╡\n",
      "│ 677960    ┆ Ryan       ┆ Weathers  ┆ Ryan Weathers ┆ … ┆ 230    ┆ 6' 1\"  ┆ 25  ┆ 1999-12-17 │\n",
      "└───────────┴────────────┴───────────┴───────────────┴───┴────────┴────────┴─────┴────────────┘\n"
     ]
    }
   ],
   "source": [
    "df_player = scraper.get_players(sport_id=1,season=2024,game_type=['R'])\n",
    "name = 'Ryan Weathers'  # Replace with the name you're looking for\n",
    "specific_player = df_player.filter(df_player['name'] == name)\n",
    "print(specific_player)"
   ]
  },
  {
   "cell_type": "code",
   "execution_count": 21,
   "metadata": {},
   "outputs": [
    {
     "name": "stdout",
     "output_type": "stream",
     "text": [
      "This May Take a While. Progress Bar shows Completion of Data Retrieval.\n"
     ]
    },
    {
     "name": "stderr",
     "output_type": "stream",
     "text": [
      "Processing: 100%|██████████| 22/22 [00:01<00:00, 17.64iteration/s]"
     ]
    },
    {
     "name": "stdout",
     "output_type": "stream",
     "text": [
      "Converting Data to Dataframe.\n",
      "shape: (4, 9)\n",
      "┌────────────┬────────────┬─────────┬─────────────┬───┬──────┬───────────┬───────────┬────────────┐\n",
      "│ pitcher_id ┆ pitch_type ┆ pitches ┆ start_speed ┆ … ┆ hb   ┆ spin_rate ┆ extension ┆ proportion │\n",
      "│ ---        ┆ ---        ┆ ---     ┆ ---         ┆   ┆ ---  ┆ ---       ┆ ---       ┆ ---        │\n",
      "│ i64        ┆ str        ┆ u32     ┆ f64         ┆   ┆ f64  ┆ f64       ┆ f64       ┆ f64        │\n",
      "╞════════════╪════════════╪═════════╪═════════════╪═══╪══════╪═══════════╪═══════════╪════════════╡\n",
      "│ 683003     ┆ SL         ┆ 40      ┆ 87.9        ┆ … ┆ -3.4 ┆ 2573.0    ┆ 7.5       ┆ 0.449      │\n",
      "│ 683003     ┆ FF         ┆ 38      ┆ 97.1        ┆ … ┆ 8.8  ┆ 2562.0    ┆ 7.6       ┆ 0.427      │\n",
      "│ 683003     ┆ CU         ┆ 6       ┆ 79.9        ┆ … ┆ -5.3 ┆ 2617.0    ┆ 7.3       ┆ 0.067      │\n",
      "│ 683003     ┆ CH         ┆ 5       ┆ 91.0        ┆ … ┆ 12.8 ┆ 1736.0    ┆ 7.6       ┆ 0.056      │\n",
      "└────────────┴────────────┴─────────┴─────────────┴───┴──────┴───────────┴───────────┴────────────┘\n"
     ]
    },
    {
     "name": "stderr",
     "output_type": "stream",
     "text": [
      "\n"
     ]
    }
   ],
   "source": [
    "import polars as pl\n",
    "\n",
    "# Set player ID and the desired date\n",
    "player_id = 683003\n",
    "selected_date = '2024-03-30'  # Replace with your desired date (format: 'YYYY-MM-DD')\n",
    "season = 2024\n",
    "player_games = scraper.get_player_games_list(player_id=player_id, season=season, game_type=['R'], pitching=True)\n",
    "\n",
    "# Get the data using the game list\n",
    "data = scraper.get_data(game_list_input=player_games)\n",
    "\n",
    "# Convert the data into a DataFrame\n",
    "df = scraper.get_data_df(data_list=data)\n",
    "# Perform the filtering, grouping, and aggregation\n",
    "grouped_df = (\n",
    "    df.filter(\n",
    "        (pl.col(\"pitcher_id\") == player_id) & \n",
    "        (pl.col(\"game_date\") == selected_date)  # Filter for the specific date\n",
    "    )\n",
    "    .group_by(['pitcher_id', 'pitch_type'])\n",
    "    .agg([\n",
    "        pl.col('is_pitch').drop_nans().count().alias('pitches'),\n",
    "        pl.col('start_speed').drop_nans().mean().round(1).alias('start_speed'),\n",
    "        pl.col('ivb').drop_nans().mean().round(1).alias('ivb'),\n",
    "        pl.col('hb').drop_nans().mean().round(1).alias('hb'),\n",
    "        pl.col('spin_rate').drop_nans().mean().round(0).alias('spin_rate'),\n",
    "        pl.col('extension').drop_nans().mean().round(1).alias('extension'),\n",
    "    ])\n",
    "    .with_columns(\n",
    "        (pl.col('pitches') / pl.col('pitches').sum().over('pitcher_id')).round(3).alias('proportion')\n",
    "    )\n",
    ").sort('proportion', descending=True)\n",
    "\n",
    "# Display the grouped DataFrame\n",
    "print(grouped_df)\n"
   ]
  },
  {
   "cell_type": "code",
   "execution_count": 22,
   "metadata": {},
   "outputs": [
    {
     "name": "stdout",
     "output_type": "stream",
     "text": [
      "This May Take a While. Progress Bar shows Completion of Data Retrieval.\n"
     ]
    },
    {
     "name": "stderr",
     "output_type": "stream",
     "text": [
      "Processing: 100%|██████████| 16/16 [00:00<00:00, 16.91iteration/s]"
     ]
    },
    {
     "name": "stdout",
     "output_type": "stream",
     "text": [
      "Converting Data to Dataframe.\n",
      "shape: (5, 9)\n",
      "┌────────────┬────────────┬─────────┬──────┬───┬──────┬──────┬──────────┬────────────┐\n",
      "│ pitcher_id ┆ pitch_type ┆ pitches ┆ ivb  ┆ … ┆ vRel ┆ hRel ┆ is_whiff ┆ proportion │\n",
      "│ ---        ┆ ---        ┆ ---     ┆ ---  ┆   ┆ ---  ┆ ---  ┆ ---      ┆ ---        │\n",
      "│ i64        ┆ str        ┆ u32     ┆ f64  ┆   ┆ f64  ┆ f64  ┆ f64      ┆ f64        │\n",
      "╞════════════╪════════════╪═════════╪══════╪═══╪══════╪══════╪══════════╪════════════╡\n",
      "│ 677960     ┆ FF         ┆ 42      ┆ 16.8 ┆ … ┆ 5.6  ┆ 2.3  ┆ 1.0      ┆ 0.447      │\n",
      "│ 677960     ┆ CH         ┆ 34      ┆ 5.8  ┆ … ┆ 5.5  ┆ 2.5  ┆ 1.0      ┆ 0.362      │\n",
      "│ 677960     ┆ ST         ┆ 12      ┆ 1.3  ┆ … ┆ 5.6  ┆ 2.6  ┆ 1.0      ┆ 0.128      │\n",
      "│ 677960     ┆ SI         ┆ 5       ┆ 12.1 ┆ … ┆ 5.5  ┆ 2.5  ┆ null     ┆ 0.053      │\n",
      "│ 677960     ┆ SL         ┆ 1       ┆ 4.1  ┆ … ┆ 5.6  ┆ 2.4  ┆ null     ┆ 0.011      │\n",
      "└────────────┴────────────┴─────────┴──────┴───┴──────┴──────┴──────────┴────────────┘\n"
     ]
    },
    {
     "name": "stderr",
     "output_type": "stream",
     "text": [
      "\n"
     ]
    }
   ],
   "source": [
    "import polars as pl\n",
    "\n",
    "# Set player ID and the desired date\n",
    "player_id = 677960\n",
    "selected_date = '2024-03-30'  # Replace with your desired date (format: 'YYYY-MM-DD')\n",
    "season = 2024\n",
    "player_games = scraper.get_player_games_list(player_id=player_id, season=season, game_type=['R'], pitching=True)\n",
    "\n",
    "# Get the data using the game list\n",
    "data = scraper.get_data(game_list_input=player_games)\n",
    "\n",
    "# Convert the data into a DataFrame\n",
    "df = scraper.get_data_df(data_list=data)\n",
    "# Perform the filtering, grouping, and aggregation\n",
    "table_df = (\n",
    "    df.filter(\n",
    "        (pl.col(\"pitcher_id\") == player_id) & \n",
    "        (pl.col(\"game_date\") == selected_date))\n",
    "    .group_by(['pitcher_id', 'pitch_type'])\n",
    "    .agg([\n",
    "        pl.col('is_pitch').drop_nans().count().alias('pitches'),\n",
    "        pl.col('ivb').drop_nans().mean().round(1).alias('ivb'),\n",
    "        pl.col('hb').drop_nans().mean().round(1).alias('hb'),\n",
    "        pl.col('z0').drop_nans().mean().round(1).alias('vRel'),\n",
    "        pl.col('x0').drop_nans().mean().round(1).alias('hRel'),\n",
    "        pl.col('is_whiff').mean().round(2).alias('is_whiff'),\n",
    "        \n",
    "    ])\n",
    "    .with_columns(\n",
    "        (pl.col('pitches') / pl.col('pitches').sum().over('pitcher_id')).round(3).alias('proportion')\n",
    "    )\n",
    "    ).sort('proportion', descending=True)\n",
    "print(table_df)"
   ]
  }
 ],
 "metadata": {
  "colab": {
   "provenance": []
  },
  "kernelspec": {
   "display_name": "Python 3",
   "language": "python",
   "name": "python3"
  },
  "language_info": {
   "codemirror_mode": {
    "name": "ipython",
    "version": 3
   },
   "file_extension": ".py",
   "mimetype": "text/x-python",
   "name": "python",
   "nbconvert_exporter": "python",
   "pygments_lexer": "ipython3",
   "version": "3.12.6"
  }
 },
 "nbformat": 4,
 "nbformat_minor": 0
}
